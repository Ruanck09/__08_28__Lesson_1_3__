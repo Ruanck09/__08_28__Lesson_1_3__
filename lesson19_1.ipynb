{
 "cells": [
  {
   "cell_type": "code",
   "execution_count": 3,
   "metadata": {},
   "outputs": [
    {
     "data": {
      "text/html": [
       "<div>\n",
       "<style scoped>\n",
       "    .dataframe tbody tr th:only-of-type {\n",
       "        vertical-align: middle;\n",
       "    }\n",
       "\n",
       "    .dataframe tbody tr th {\n",
       "        vertical-align: top;\n",
       "    }\n",
       "\n",
       "    .dataframe thead th {\n",
       "        text-align: right;\n",
       "    }\n",
       "</style>\n",
       "<table border=\"1\" class=\"dataframe\">\n",
       "  <thead>\n",
       "    <tr style=\"text-align: right;\">\n",
       "      <th></th>\n",
       "      <th>c</th>\n",
       "      <th>e</th>\n",
       "      <th>d</th>\n",
       "    </tr>\n",
       "  </thead>\n",
       "  <tbody>\n",
       "    <tr>\n",
       "      <th>台北</th>\n",
       "      <td>-0.344727</td>\n",
       "      <td>0.019646</td>\n",
       "      <td>-1.669555</td>\n",
       "    </tr>\n",
       "    <tr>\n",
       "      <th>台中</th>\n",
       "      <td>0.812229</td>\n",
       "      <td>-0.825115</td>\n",
       "      <td>0.374695</td>\n",
       "    </tr>\n",
       "    <tr>\n",
       "      <th>高雄</th>\n",
       "      <td>0.237105</td>\n",
       "      <td>-2.789803</td>\n",
       "      <td>0.612497</td>\n",
       "    </tr>\n",
       "    <tr>\n",
       "      <th>花蓮</th>\n",
       "      <td>-1.585992</td>\n",
       "      <td>0.760755</td>\n",
       "      <td>-0.486531</td>\n",
       "    </tr>\n",
       "  </tbody>\n",
       "</table>\n",
       "</div>"
      ],
      "text/plain": [
       "           c         e         d\n",
       "台北 -0.344727  0.019646 -1.669555\n",
       "台中  0.812229 -0.825115  0.374695\n",
       "高雄  0.237105 -2.789803  0.612497\n",
       "花蓮 -1.585992  0.760755 -0.486531"
      ]
     },
     "execution_count": 3,
     "metadata": {},
     "output_type": "execute_result"
    }
   ],
   "source": [
    "import numpy as np\n",
    "import pandas as pd\n",
    "\n",
    "dataframe = pd.DataFrame(np.random.randn(4,3),\n",
    "                         columns=['c', 'e', 'd'],\n",
    "                         index=['台北', '台中', '高雄', '花蓮'])\n",
    "dataframe"
   ]
  },
  {
   "cell_type": "code",
   "execution_count": 4,
   "metadata": {},
   "outputs": [
    {
     "data": {
      "text/html": [
       "<div>\n",
       "<style scoped>\n",
       "    .dataframe tbody tr th:only-of-type {\n",
       "        vertical-align: middle;\n",
       "    }\n",
       "\n",
       "    .dataframe tbody tr th {\n",
       "        vertical-align: top;\n",
       "    }\n",
       "\n",
       "    .dataframe thead th {\n",
       "        text-align: right;\n",
       "    }\n",
       "</style>\n",
       "<table border=\"1\" class=\"dataframe\">\n",
       "  <thead>\n",
       "    <tr style=\"text-align: right;\">\n",
       "      <th></th>\n",
       "      <th>c</th>\n",
       "      <th>e</th>\n",
       "      <th>d</th>\n",
       "    </tr>\n",
       "  </thead>\n",
       "  <tbody>\n",
       "    <tr>\n",
       "      <th>台北</th>\n",
       "      <td>0.344727</td>\n",
       "      <td>0.019646</td>\n",
       "      <td>1.669555</td>\n",
       "    </tr>\n",
       "    <tr>\n",
       "      <th>台中</th>\n",
       "      <td>0.812229</td>\n",
       "      <td>0.825115</td>\n",
       "      <td>0.374695</td>\n",
       "    </tr>\n",
       "    <tr>\n",
       "      <th>高雄</th>\n",
       "      <td>0.237105</td>\n",
       "      <td>2.789803</td>\n",
       "      <td>0.612497</td>\n",
       "    </tr>\n",
       "    <tr>\n",
       "      <th>花蓮</th>\n",
       "      <td>1.585992</td>\n",
       "      <td>0.760755</td>\n",
       "      <td>0.486531</td>\n",
       "    </tr>\n",
       "  </tbody>\n",
       "</table>\n",
       "</div>"
      ],
      "text/plain": [
       "           c         e         d\n",
       "台北  0.344727  0.019646  1.669555\n",
       "台中  0.812229  0.825115  0.374695\n",
       "高雄  0.237105  2.789803  0.612497\n",
       "花蓮  1.585992  0.760755  0.486531"
      ]
     },
     "execution_count": 4,
     "metadata": {},
     "output_type": "execute_result"
    }
   ],
   "source": [
    "np.abs(dataframe)"
   ]
  },
  {
   "cell_type": "code",
   "execution_count": 7,
   "metadata": {},
   "outputs": [
    {
     "data": {
      "text/plain": [
       "c    0.812229\n",
       "e    0.760755\n",
       "d    0.612497\n",
       "dtype: float64"
      ]
     },
     "metadata": {},
     "output_type": "display_data"
    },
    {
     "data": {
      "text/plain": [
       "台北    0.019646\n",
       "台中    0.812229\n",
       "高雄    0.612497\n",
       "花蓮    0.760755\n",
       "dtype: float64"
      ]
     },
     "execution_count": 7,
     "metadata": {},
     "output_type": "execute_result"
    }
   ],
   "source": [
    "display(dataframe.max())\n",
    "dataframe.max(axis=1)"
   ]
  },
  {
   "cell_type": "code",
   "execution_count": 8,
   "metadata": {},
   "outputs": [
    {
     "data": {
      "text/plain": [
       "c   -1.585992\n",
       "e   -2.789803\n",
       "d   -1.669555\n",
       "dtype: float64"
      ]
     },
     "metadata": {},
     "output_type": "display_data"
    },
    {
     "data": {
      "text/plain": [
       "台北   -1.669555\n",
       "台中   -0.825115\n",
       "高雄   -2.789803\n",
       "花蓮   -1.585992\n",
       "dtype: float64"
      ]
     },
     "execution_count": 8,
     "metadata": {},
     "output_type": "execute_result"
    }
   ],
   "source": [
    "display(dataframe.min())\n",
    "dataframe.min(axis=1)"
   ]
  },
  {
   "cell_type": "code",
   "execution_count": 10,
   "metadata": {},
   "outputs": [
    {
     "data": {
      "text/html": [
       "<div>\n",
       "<style scoped>\n",
       "    .dataframe tbody tr th:only-of-type {\n",
       "        vertical-align: middle;\n",
       "    }\n",
       "\n",
       "    .dataframe tbody tr th {\n",
       "        vertical-align: top;\n",
       "    }\n",
       "\n",
       "    .dataframe thead th {\n",
       "        text-align: right;\n",
       "    }\n",
       "</style>\n",
       "<table border=\"1\" class=\"dataframe\">\n",
       "  <thead>\n",
       "    <tr style=\"text-align: right;\">\n",
       "      <th></th>\n",
       "      <th>c</th>\n",
       "      <th>e</th>\n",
       "      <th>d</th>\n",
       "    </tr>\n",
       "  </thead>\n",
       "  <tbody>\n",
       "    <tr>\n",
       "      <th>台北</th>\n",
       "      <td>9.655273</td>\n",
       "      <td>10.019646</td>\n",
       "      <td>8.330445</td>\n",
       "    </tr>\n",
       "    <tr>\n",
       "      <th>台中</th>\n",
       "      <td>10.812229</td>\n",
       "      <td>9.174885</td>\n",
       "      <td>10.374695</td>\n",
       "    </tr>\n",
       "    <tr>\n",
       "      <th>高雄</th>\n",
       "      <td>10.237105</td>\n",
       "      <td>7.210197</td>\n",
       "      <td>10.612497</td>\n",
       "    </tr>\n",
       "    <tr>\n",
       "      <th>花蓮</th>\n",
       "      <td>8.414008</td>\n",
       "      <td>10.760755</td>\n",
       "      <td>9.513469</td>\n",
       "    </tr>\n",
       "  </tbody>\n",
       "</table>\n",
       "</div>"
      ],
      "text/plain": [
       "            c          e          d\n",
       "台北   9.655273  10.019646   8.330445\n",
       "台中  10.812229   9.174885  10.374695\n",
       "高雄  10.237105   7.210197  10.612497\n",
       "花蓮   8.414008  10.760755   9.513469"
      ]
     },
     "execution_count": 10,
     "metadata": {},
     "output_type": "execute_result"
    }
   ],
   "source": [
    "def func1(series:pd.Series)->pd.Series:\n",
    "    return series + 10\n",
    "\n",
    "dataframe.apply(func1)"
   ]
  },
  {
   "cell_type": "code",
   "execution_count": 12,
   "metadata": {},
   "outputs": [
    {
     "data": {
      "text/plain": [
       "c    2.398221\n",
       "e    3.550558\n",
       "d    2.282051\n",
       "dtype: float64"
      ]
     },
     "metadata": {},
     "output_type": "display_data"
    },
    {
     "data": {
      "text/plain": [
       "台北    1.689200\n",
       "台中    1.637344\n",
       "高雄    3.402300\n",
       "花蓮    2.346748\n",
       "dtype: float64"
      ]
     },
     "execution_count": 12,
     "metadata": {},
     "output_type": "execute_result"
    }
   ],
   "source": [
    "def func2(series:pd.Series)->float:\n",
    "    return series.max() - series.min()\n",
    "\n",
    "display(dataframe.apply(func2))\n",
    "dataframe.apply(func2,axis=1)"
   ]
  },
  {
   "cell_type": "code",
   "execution_count": 13,
   "metadata": {},
   "outputs": [
    {
     "data": {
      "text/html": [
       "<div>\n",
       "<style scoped>\n",
       "    .dataframe tbody tr th:only-of-type {\n",
       "        vertical-align: middle;\n",
       "    }\n",
       "\n",
       "    .dataframe tbody tr th {\n",
       "        vertical-align: top;\n",
       "    }\n",
       "\n",
       "    .dataframe thead th {\n",
       "        text-align: right;\n",
       "    }\n",
       "</style>\n",
       "<table border=\"1\" class=\"dataframe\">\n",
       "  <thead>\n",
       "    <tr style=\"text-align: right;\">\n",
       "      <th></th>\n",
       "      <th>c</th>\n",
       "      <th>e</th>\n",
       "      <th>d</th>\n",
       "    </tr>\n",
       "  </thead>\n",
       "  <tbody>\n",
       "    <tr>\n",
       "      <th>最大</th>\n",
       "      <td>0.812229</td>\n",
       "      <td>0.760755</td>\n",
       "      <td>0.612497</td>\n",
       "    </tr>\n",
       "    <tr>\n",
       "      <th>最小</th>\n",
       "      <td>-1.585992</td>\n",
       "      <td>-2.789803</td>\n",
       "      <td>-1.669555</td>\n",
       "    </tr>\n",
       "    <tr>\n",
       "      <th>最大-最小</th>\n",
       "      <td>2.398221</td>\n",
       "      <td>3.550558</td>\n",
       "      <td>2.282051</td>\n",
       "    </tr>\n",
       "  </tbody>\n",
       "</table>\n",
       "</div>"
      ],
      "text/plain": [
       "              c         e         d\n",
       "最大     0.812229  0.760755  0.612497\n",
       "最小    -1.585992 -2.789803 -1.669555\n",
       "最大-最小  2.398221  3.550558  2.282051"
      ]
     },
     "execution_count": 13,
     "metadata": {},
     "output_type": "execute_result"
    }
   ],
   "source": [
    "def func3(series:pd.Series)->pd.Series:\n",
    "    data = [series.max(),series.min(),series.max()-series.min()]\n",
    "    s = pd.Series(data,index=['最大','最小','最大-最小'])\n",
    "    return s\n",
    "\n",
    "dataframe.apply(func3)\n"
   ]
  }
 ],
 "metadata": {
  "kernelspec": {
   "display_name": "Python 3",
   "language": "python",
   "name": "python3"
  },
  "language_info": {
   "codemirror_mode": {
    "name": "ipython",
    "version": 3
   },
   "file_extension": ".py",
   "mimetype": "text/x-python",
   "name": "python",
   "nbconvert_exporter": "python",
   "pygments_lexer": "ipython3",
   "version": "3.10.13"
  }
 },
 "nbformat": 4,
 "nbformat_minor": 2
}
