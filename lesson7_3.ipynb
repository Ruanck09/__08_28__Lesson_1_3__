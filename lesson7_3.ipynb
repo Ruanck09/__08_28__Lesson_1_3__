{
 "cells": [
  {
   "cell_type": "code",
   "execution_count": 26,
   "metadata": {},
   "outputs": [],
   "source": [
    "# 自訂class\n",
    "\n",
    "class Student:\n",
    "    def __init__(self,n,c,e,m):   # 自訂的初始化\n",
    "        self.name = n             # attribute屬性\n",
    "        self.chinese = c\n",
    "        self.english = e\n",
    "        self.math = m\n",
    "\n",
    "    # 實體的方法\n",
    "    def student_info(self):\n",
    "        print(\"name:\",self.name)\n",
    "        print(\"chinese:\",self.chinese)\n",
    "        print(\"english:\",self.english)\n",
    "        print(\"math:\",self.math)\n",
    "\n",
    "    def sum(self):\n",
    "        return self.chinese + self.english + self.math\n",
    "    \n",
    "    def average(self):\n",
    "        return self.sum() / 3.0\n",
    "    \n",
    "    # override內建的__repr__(self)\n",
    "    def __repr__(self):\n",
    "        return f\"這是Student的實體\\n學生姓名是{self.name}\""
   ]
  },
  {
   "cell_type": "code",
   "execution_count": 27,
   "metadata": {},
   "outputs": [
    {
     "name": "stdout",
     "output_type": "stream",
     "text": [
      "name: 小明\n",
      "chinese: 69\n",
      "english: 78\n",
      "math: 87\n",
      "總分: 234\n",
      "平均: 78.0\n",
      "這是Student的實體\n",
      "學生姓名是小明\n",
      "================\n",
      "name: 大明\n",
      "chinese: 90\n",
      "english: 94\n",
      "math: 64\n",
      "總分: 248\n",
      "平均: 82.66666666666667\n",
      "這是Student的實體\n",
      "學生姓名是大明\n",
      "================\n",
      "name: 大華\n",
      "chinese: 100\n",
      "english: 100\n",
      "math: 100\n",
      "總分: 300\n",
      "平均: 100.0\n",
      "這是Student的實體\n",
      "學生姓名是大華\n",
      "================\n"
     ]
    }
   ],
   "source": [
    "stu1 = Student(n=\"小明\",c=69,e=78,m=87)\n",
    "stu1.student_info()\n",
    "print(\"總分:\",stu1.sum())\n",
    "print(\"平均:\",stu1.average())\n",
    "print(stu1)\n",
    "print(\"================\")\n",
    "\n",
    "stu2 = Student(n=\"大明\",c=90,e=94,m=64)\n",
    "stu2.student_info()\n",
    "print(\"總分:\",stu2.sum())\n",
    "print(\"平均:\",stu2.average())\n",
    "print(stu2)\n",
    "print(\"================\")\n",
    "\n",
    "stu3 = Student(n=\"大華\",c=100,e=100,m=100)\n",
    "stu3.student_info()\n",
    "print(\"總分:\",stu3.sum())\n",
    "print(\"平均:\",stu3.average())\n",
    "print(stu3)\n",
    "print(\"================\")"
   ]
  }
 ],
 "metadata": {
  "kernelspec": {
   "display_name": "Python 3",
   "language": "python",
   "name": "python3"
  },
  "language_info": {
   "codemirror_mode": {
    "name": "ipython",
    "version": 3
   },
   "file_extension": ".py",
   "mimetype": "text/x-python",
   "name": "python",
   "nbconvert_exporter": "python",
   "pygments_lexer": "ipython3",
   "version": "3.10.12"
  },
  "orig_nbformat": 4
 },
 "nbformat": 4,
 "nbformat_minor": 2
}
