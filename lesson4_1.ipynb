{
 "cells": [
  {
   "cell_type": "code",
   "execution_count": 4,
   "metadata": {},
   "outputs": [
    {
     "data": {
      "text/plain": [
       "True"
      ]
     },
     "metadata": {},
     "output_type": "display_data"
    },
    {
     "data": {
      "text/plain": [
       "False"
      ]
     },
     "execution_count": 4,
     "metadata": {},
     "output_type": "execute_result"
    }
   ],
   "source": [
    "# 關係運算子\n",
    "x = 7\n",
    "display(x == 7)\n",
    "\n",
    "5 > x"
   ]
  },
  {
   "cell_type": "code",
   "execution_count": 6,
   "metadata": {},
   "outputs": [
    {
     "name": "stdout",
     "output_type": "stream",
     "text": [
      "不及格\n"
     ]
    }
   ],
   "source": [
    "scores = int(input(\"請輸入分數:\"))\n",
    "if scores < 60:\n",
    "    print(\"不及格\")\n",
    "else:\n",
    "    print(\"及格\")"
   ]
  },
  {
   "cell_type": "code",
   "execution_count": 20,
   "metadata": {},
   "outputs": [
    {
     "name": "stdout",
     "output_type": "stream",
     "text": [
      "300\n",
      "300\n",
      "300\n",
      "程式結束\n"
     ]
    }
   ],
   "source": [
    "# 學生總分為300分,有些學生可以加分5%\n",
    "# 如果加分後超過300分,以300分計算\n",
    "\n",
    "try:\n",
    "    scores = int(input(\"請輸入學生總分(最高300分):\"))\n",
    "except:\n",
    "    print(\"輸入錯誤\")\n",
    "else:\n",
    "    is_add = input(\"是否符合加分條件?(y,n)\")\n",
    "    # 單項選擇\n",
    "    if (is_add == \"y\"):\n",
    "        scores *=1.05\n",
    "        # 巢狀判斷\n",
    "        if scores > 300:\n",
    "            scores = 300\n",
    "\n",
    "    print(int(scores))\n",
    "    print(round(scores))\n",
    "    print(f'{scores:.0f}')\n",
    "\n",
    "print(\"程式結束\")"
   ]
  },
  {
   "cell_type": "code",
   "execution_count": 19,
   "metadata": {},
   "outputs": [
    {
     "name": "stdout",
     "output_type": "stream",
     "text": [
      "輸入錯誤:300\n"
     ]
    }
   ],
   "source": [
    "try:\n",
    "    scores = int(input(\"請輸入學生總分(最高300分):\"))\n",
    "    print(f\"您的分數是:{scores}\")\n",
    "except:\n",
    "    print(f\"輸入錯誤:{scores}\")"
   ]
  },
  {
   "cell_type": "code",
   "execution_count": 21,
   "metadata": {},
   "outputs": [
    {
     "name": "stdout",
     "output_type": "stream",
     "text": [
      "及格\n"
     ]
    }
   ],
   "source": [
    "scores = 89\n",
    "if scores >=60:\n",
    "    print(\"及格\")\n",
    "else:\n",
    "    print(\"不及格\")"
   ]
  },
  {
   "cell_type": "code",
   "execution_count": 25,
   "metadata": {},
   "outputs": [
    {
     "name": "stdout",
     "output_type": "stream",
     "text": [
      "大於80\n"
     ]
    }
   ],
   "source": [
    "# 兩個條件使用巢狀判斷\n",
    "\n",
    "scores = int(input(\"請輸入分數:\"))\n",
    "if scores >=60:\n",
    "    if scores <=80:\n",
    "        print(\"60~80\")\n",
    "    else:\n",
    "        print(\"大於80\")\n",
    "else:\n",
    "    print(\"小於60\")"
   ]
  },
  {
   "cell_type": "code",
   "execution_count": 32,
   "metadata": {},
   "outputs": [
    {
     "name": "stdout",
     "output_type": "stream",
     "text": [
      "小於60\n"
     ]
    }
   ],
   "source": [
    "# 兩個條件使用邏輯運算子 and\n",
    "\n",
    "scores = int(input(\"請輸入分數:\"))\n",
    "if scores >=60 and scores <=80:\n",
    "    print(\"60~80\")\n",
    "else:\n",
    "    if scores < 60:\n",
    "        print(\"小於60\")\n",
    "    else:\n",
    "        print(\"大於80\")"
   ]
  },
  {
   "cell_type": "code",
   "execution_count": 30,
   "metadata": {},
   "outputs": [
    {
     "name": "stdout",
     "output_type": "stream",
     "text": [
      "小於等於60\n"
     ]
    }
   ],
   "source": [
    "scores = int(input(\"請輸入分數:\"))\n",
    "if scores <= 60:\n",
    "    print(\"小於等於60\")\n",
    "\n",
    "if scores >= 80:\n",
    "    print(\"大於等於80\")"
   ]
  },
  {
   "cell_type": "code",
   "execution_count": 33,
   "metadata": {},
   "outputs": [
    {
     "name": "stdout",
     "output_type": "stream",
     "text": [
      "61~79\n"
     ]
    }
   ],
   "source": [
    "# 兩個條件使用邏輯運算子 or\n",
    "\n",
    "scores = int(input(\"請輸入分數:\"))\n",
    "if scores <= 60 or scores >= 80:\n",
    "    print(\"小於等於60或大於等於80\")\n",
    "else:\n",
    "    print(\"61~79\")"
   ]
  },
  {
   "cell_type": "code",
   "execution_count": 41,
   "metadata": {},
   "outputs": [
    {
     "name": "stdout",
     "output_type": "stream",
     "text": [
      "Good Job!\n"
     ]
    }
   ],
   "source": [
    "# 多項選擇(由小到大)\n",
    "\n",
    "scores = int(input(\"請輸入分數:\"))\n",
    "if scores < 60:\n",
    "    print(\"不及格，請加油！\")\n",
    "elif scores <= 80:\n",
    "    print(\"考得不錯，請繼續加油！\")\n",
    "else:\n",
    "    print(\"Good Job!\")"
   ]
  },
  {
   "cell_type": "code",
   "execution_count": 42,
   "metadata": {},
   "outputs": [
    {
     "name": "stdout",
     "output_type": "stream",
     "text": [
      "考得不錯，請繼續加油！\n"
     ]
    }
   ],
   "source": [
    "# 多項選擇(由大到小)\n",
    "\n",
    "scores = int(input(\"請輸入分數:\"))\n",
    "if scores > 80:\n",
    "    print(\"Good Job!\")\n",
    "elif scores >=60:\n",
    "    print(\"考得不錯，請繼續加油！\")\n",
    "else:\n",
    "    print(\"不及格，請加油！\")"
   ]
  },
  {
   "cell_type": "code",
   "execution_count": 54,
   "metadata": {},
   "outputs": [
    {
     "name": "stdout",
     "output_type": "stream",
     "text": [
      "丁\n"
     ]
    }
   ],
   "source": [
    "# 90~100為優,80~89為甲,70~79為乙,60~69為丙,0~59為丁\n",
    "\n",
    "scores = int(input(\"請輸入學生分數:\"))\n",
    "if scores >= 90:\n",
    "    print(\"優\")\n",
    "elif scores >= 80:\n",
    "    print(\"甲\")\n",
    "elif scores >= 70:\n",
    "    print(\"乙\")\n",
    "elif scores >= 60:\n",
    "    print(\"丙\")\n",
    "else:\n",
    "    print(\"丁\")"
   ]
  },
  {
   "cell_type": "code",
   "execution_count": 59,
   "metadata": {},
   "outputs": [
    {
     "name": "stdout",
     "output_type": "stream",
     "text": [
      "購買金額為:150000\n",
      "實付金額為:120000\n"
     ]
    }
   ],
   "source": [
    "# 周年慶,若金額為100000元打8折,50000元打85折,30000元打9折,10000元打95折\n",
    "\n",
    "money = int(input(\"請輸入購買金額:\"))\n",
    "if money < 10000:\n",
    "    paymoney = money\n",
    "elif money < 30000:\n",
    "    paymoney = money * 0.95\n",
    "elif money < 50000:\n",
    "    paymoney = money * 0.9\n",
    "elif money < 100000:\n",
    "    paymoney = money * 0.85\n",
    "else:\n",
    "    paymoney = money * 0.8\n",
    "\n",
    "print(f\"購買金額為:{money}\")\n",
    "print(f\"實付金額為:{paymoney:.0f}\")"
   ]
  },
  {
   "cell_type": "code",
   "execution_count": 67,
   "metadata": {},
   "outputs": [
    {
     "name": "stdout",
     "output_type": "stream",
     "text": [
      "獎金:0\n"
     ]
    }
   ],
   "source": [
    "# 國文分數100,同時數學分數100,獎金1000元\n",
    "# 國文分數100,或者數學分數100,獎金500元\n",
    "# 其他獎金0元\n",
    "\n",
    "chinese = int(input(\"請輸入國文分數:\"))\n",
    "math = int(input(\"請輸入數學分數:\"))\n",
    "bonus = 0\n",
    "if chinese == 100 and math == 100:\n",
    "    bonus += 1000\n",
    "elif chinese ==100 or math == 100:\n",
    "    bonus += 500\n",
    "\n",
    "print(f\"獎金:{bonus}\")"
   ]
  },
  {
   "cell_type": "code",
   "execution_count": 71,
   "metadata": {},
   "outputs": [
    {
     "data": {
      "text/plain": [
       "55"
      ]
     },
     "execution_count": 71,
     "metadata": {},
     "output_type": "execute_result"
    }
   ],
   "source": [
    "sum = 0\n",
    "sum += 1\n",
    "sum += 2\n",
    "sum += 3\n",
    "sum += 4\n",
    "sum += 5\n",
    "sum += 6\n",
    "sum += 7\n",
    "sum += 8\n",
    "sum += 9\n",
    "sum += 10\n",
    "\n",
    "sum"
   ]
  },
  {
   "cell_type": "code",
   "execution_count": 73,
   "metadata": {},
   "outputs": [
    {
     "data": {
      "text/plain": [
       "5050"
      ]
     },
     "execution_count": 73,
     "metadata": {},
     "output_type": "execute_result"
    }
   ],
   "source": [
    "sum = 0\n",
    "for i in range(1,101):\n",
    "    sum += i\n",
    "sum"
   ]
  }
 ],
 "metadata": {
  "kernelspec": {
   "display_name": "Python 3",
   "language": "python",
   "name": "python3"
  },
  "language_info": {
   "codemirror_mode": {
    "name": "ipython",
    "version": 3
   },
   "file_extension": ".py",
   "mimetype": "text/x-python",
   "name": "python",
   "nbconvert_exporter": "python",
   "pygments_lexer": "ipython3",
   "version": "3.10.12"
  },
  "orig_nbformat": 4
 },
 "nbformat": 4,
 "nbformat_minor": 2
}
