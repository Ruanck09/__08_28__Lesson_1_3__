{
 "cells": [
  {
   "cell_type": "code",
   "execution_count": 2,
   "metadata": {},
   "outputs": [
    {
     "name": "stdout",
     "output_type": "stream",
     "text": [
      "輸入格式錯誤!!!\n"
     ]
    }
   ],
   "source": [
    "try:\n",
    "    nums = int(input(\"請輸入整數:\"))\n",
    "except ValueError:\n",
    "    print(\"輸入格式錯誤!!!\")\n",
    "else:\n",
    "    print(nums)"
   ]
  },
  {
   "cell_type": "code",
   "execution_count": 7,
   "metadata": {},
   "outputs": [
    {
     "name": "stdout",
     "output_type": "stream",
     "text": [
      "請輸入姓名:123\n"
     ]
    }
   ],
   "source": [
    "import pyinputplus\n",
    "name = pyinputplus.inputStr(\"請輸入姓名:\")\n",
    "print(name)"
   ]
  },
  {
   "cell_type": "code",
   "execution_count": 8,
   "metadata": {},
   "outputs": [
    {
     "name": "stdout",
     "output_type": "stream",
     "text": [
      "請輸入整數:123\n"
     ]
    }
   ],
   "source": [
    "import pyinputplus as pyip\n",
    "nums = pyip.inputNum(\"請輸入整數:\")\n",
    "print(nums)"
   ]
  },
  {
   "cell_type": "code",
   "execution_count": 9,
   "metadata": {},
   "outputs": [
    {
     "data": {
      "text/plain": [
       "set()"
      ]
     },
     "execution_count": 9,
     "metadata": {},
     "output_type": "execute_result"
    }
   ],
   "source": [
    "empty_set = set()\n",
    "empty_set"
   ]
  },
  {
   "cell_type": "code",
   "execution_count": 10,
   "metadata": {},
   "outputs": [
    {
     "data": {
      "text/plain": [
       "dict"
      ]
     },
     "execution_count": 10,
     "metadata": {},
     "output_type": "execute_result"
    }
   ],
   "source": [
    "empty_set = {}  # 這是建立dictionary\n",
    "type(empty_set)"
   ]
  },
  {
   "cell_type": "code",
   "execution_count": 14,
   "metadata": {},
   "outputs": [
    {
     "data": {
      "text/plain": [
       "{0, 2, 4, 6, 8, 12}"
      ]
     },
     "execution_count": 14,
     "metadata": {},
     "output_type": "execute_result"
    }
   ],
   "source": [
    "even_nums = {0, 2, 4, 6, 8, 0, 2, 4, 6, 8}\n",
    "even_nums.add(12)\n",
    "even_nums"
   ]
  },
  {
   "cell_type": "code",
   "execution_count": 18,
   "metadata": {},
   "outputs": [
    {
     "name": "stdout",
     "output_type": "stream",
     "text": [
      "本期大樂透電腦選號如下:\n",
      "1 43 11 12 19 20 \n",
      "特別號:29\n"
     ]
    }
   ],
   "source": [
    "# 撰寫一個大樂透電腦自動選號程式，程式執行會以亂數的方式顯示1~49之間七個不重複的大樂透號碼。\n",
    "\n",
    "import random\n",
    "\n",
    "lotos = set()\n",
    "while len(lotos) < 7:\n",
    "    lotos.add(random.randint(1,49))\n",
    "\n",
    "lotos_list = list(lotos)\n",
    "\n",
    "print(\"本期大樂透電腦選號如下:\")\n",
    "for num in lotos_list[:6]:\n",
    "    print(num,end=\" \")\n",
    "print()\n",
    "print(f\"特別號:{lotos_list[-1]}\")"
   ]
  },
  {
   "cell_type": "code",
   "execution_count": 23,
   "metadata": {},
   "outputs": [
    {
     "name": "stdout",
     "output_type": "stream",
     "text": [
      "請輸入電腦選號的組數(最多10組):\n",
      "本期大樂透電腦選號如下:\n",
      "第1組:\n",
      "33 3 4 39 43 48 \n",
      "特別號:16\n",
      "\n",
      "第2組:\n",
      "38 8 9 44 13 23 \n",
      "特別號:30\n",
      "\n",
      "第3組:\n",
      "2 5 6 45 14 49 \n",
      "特別號:27\n",
      "\n",
      "第4組:\n",
      "32 34 38 11 46 15 \n",
      "特別號:28\n",
      "\n",
      "第5組:\n",
      "3 7 9 44 45 15 \n",
      "特別號:31\n",
      "\n"
     ]
    }
   ],
   "source": [
    "import pyinputplus as pyip\n",
    "import random\n",
    "\n",
    "def generate_loto() -> list:\n",
    "    lotos = set()\n",
    "    while len(lotos) < 7:\n",
    "        lotos.add(random.randint(1,49))\n",
    "\n",
    "    return list(lotos)\n",
    "\n",
    "num = pyip.inputInt(\"請輸入電腦選號的組數(最多10組):\\n\",max=10)\n",
    "print(\"本期大樂透電腦選號如下:\")\n",
    "for i in range(num):\n",
    "    print(f\"第{i+1}組:\")\n",
    "    lotos_list = generate_loto()\n",
    "    for num in lotos_list[:6]:\n",
    "        print(num,end=\" \")\n",
    "    print()\n",
    "    print(f\"特別號:{lotos_list[-1]}\\n\")"
   ]
  }
 ],
 "metadata": {
  "kernelspec": {
   "display_name": "Python 3",
   "language": "python",
   "name": "python3"
  },
  "language_info": {
   "codemirror_mode": {
    "name": "ipython",
    "version": 3
   },
   "file_extension": ".py",
   "mimetype": "text/x-python",
   "name": "python",
   "nbconvert_exporter": "python",
   "pygments_lexer": "ipython3",
   "version": "3.10.12"
  },
  "orig_nbformat": 4
 },
 "nbformat": 4,
 "nbformat_minor": 2
}
