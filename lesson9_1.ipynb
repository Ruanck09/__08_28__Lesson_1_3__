{
 "cells": [
  {
   "cell_type": "code",
   "execution_count": 4,
   "metadata": {},
   "outputs": [],
   "source": [
    "import random\n",
    "\n",
    "def generate_stu() -> list[int]:\n",
    "    scores = []\n",
    "    for _ in range(5):\n",
    "        scores.append(random.randint(50,100))\n",
    "    return scores\n",
    "\n",
    "def getNames(num:int) -> list[str]:\n",
    "    with open(\"names.txt\",encoding=\"utf-8\") as file:\n",
    "        names = []\n",
    "        for name in file:\n",
    "            names.append(name.rstrip())\n",
    "    return random.choices(names,k=num)"
   ]
  },
  {
   "cell_type": "code",
   "execution_count": 5,
   "metadata": {},
   "outputs": [
    {
     "name": "stdout",
     "output_type": "stream",
     "text": [
      "請輸入學生的人數:10\n"
     ]
    },
    {
     "data": {
      "text/plain": [
       "[['鍾俞禎', 76, 57, 52, 68, 64],\n",
       " ['鄭孟芳', 89, 60, 86, 93, 52],\n",
       " ['劉昀天', 58, 89, 51, 70, 74],\n",
       " ['林希啟', 76, 86, 72, 74, 65],\n",
       " ['陳淑萍', 91, 76, 83, 97, 69],\n",
       " ['劉嘉泰', 58, 66, 100, 59, 72],\n",
       " ['簡美君', 94, 53, 75, 84, 51],\n",
       " ['吳麗卿', 62, 61, 61, 62, 82],\n",
       " ['王惠皓', 84, 92, 78, 90, 80],\n",
       " ['葉祖雄', 56, 67, 79, 84, 95]]"
      ]
     },
     "execution_count": 5,
     "metadata": {},
     "output_type": "execute_result"
    }
   ],
   "source": [
    "import pyinputplus as pyip\n",
    "\n",
    "num = pyip.inputInt(\"請輸入學生的人數:\",min=5,max=50)\n",
    "print(num)\n",
    "names = getNames(num=num)  # 建立學生姓名的list\n",
    "students = []\n",
    "for i in range(num):\n",
    "    scores = generate_stu()  # 建立學生的5個分數\n",
    "    scores.insert(0,names[i])  # 將學生姓名加入至list內\n",
    "    students.append(scores)\n",
    "\n",
    "students"
   ]
  },
  {
   "cell_type": "code",
   "execution_count": 6,
   "metadata": {},
   "outputs": [
    {
     "name": "stdout",
     "output_type": "stream",
     "text": [
      "存檔成功\n"
     ]
    }
   ],
   "source": [
    "import csv\n",
    "\n",
    "with open(\"學生成績.csv\",mode='w',encoding=\"utf-8\",newline='') as file:\n",
    "    csv_writer = csv.writer(file)\n",
    "    csv_writer.writerows(students)\n",
    "print(\"存檔成功\")"
   ]
  },
  {
   "cell_type": "code",
   "execution_count": 13,
   "metadata": {},
   "outputs": [],
   "source": [
    "def save_csv_file(filename:str,data:list) -> bool:\n",
    "    try:\n",
    "        with open(filename,mode='w',encoding=\"utf-8\",newline='') as file:\n",
    "            csv_writer = csv.writer(file)\n",
    "            csv_writer.writerow([\"姓名\",\"國文\",\"英文\",\"數學\",\"自然\",\"社會\"])\n",
    "            csv_writer.writerows(data)\n",
    "    except:\n",
    "        return False\n",
    "    else:\n",
    "        return True"
   ]
  },
  {
   "cell_type": "code",
   "execution_count": 15,
   "metadata": {},
   "outputs": [
    {
     "name": "stdout",
     "output_type": "stream",
     "text": [
      "存檔成功\n"
     ]
    }
   ],
   "source": [
    "fname = input(\"請輸入csv儲存檔的檔案名稱:\")\n",
    "if save_csv_file(filename=f\"{fname}.csv\",data=students):\n",
    "    print(\"存檔成功\")\n",
    "else:\n",
    "    print(\"存檔失敗\")"
   ]
  }
 ],
 "metadata": {
  "kernelspec": {
   "display_name": "Python 3",
   "language": "python",
   "name": "python3"
  },
  "language_info": {
   "codemirror_mode": {
    "name": "ipython",
    "version": 3
   },
   "file_extension": ".py",
   "mimetype": "text/x-python",
   "name": "python",
   "nbconvert_exporter": "python",
   "pygments_lexer": "ipython3",
   "version": "3.10.12"
  },
  "orig_nbformat": 4
 },
 "nbformat": 4,
 "nbformat_minor": 2
}
