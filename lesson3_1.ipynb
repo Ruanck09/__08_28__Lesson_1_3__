{
 "cells": [
  {
   "cell_type": "code",
   "execution_count": 9,
   "metadata": {},
   "outputs": [
    {
     "name": "stdout",
     "output_type": "stream",
     "text": [
      "對邊：1.0,斜邊：2.0\n",
      "弳度是0.524,角度是30\n"
     ]
    }
   ],
   "source": [
    "# 高中數學\n",
    "# 輸入直角三角形的斜邊及對邊，計算對邊所對的角度\n",
    "\n",
    "import math\n",
    "\n",
    "a = float(input(\"請輸入直角三角形的對邊：\"))\n",
    "b = float(input(\"請輸入直角三角形的斜邊：\"))\n",
    "radian = math.asin(a / b)\n",
    "degree = math.degrees(radian)\n",
    "\n",
    "print(f\"對邊：{a},斜邊：{b}\")\n",
    "print(f\"弳度是{radian:.3f},角度是{round(degree)}\")"
   ]
  },
  {
   "cell_type": "code",
   "execution_count": null,
   "metadata": {},
   "outputs": [],
   "source": [
    "# 大學數學(微積分)\n",
    "import sympy\n"
   ]
  }
 ],
 "metadata": {
  "kernelspec": {
   "display_name": "Python 3",
   "language": "python",
   "name": "python3"
  },
  "language_info": {
   "codemirror_mode": {
    "name": "ipython",
    "version": 3
   },
   "file_extension": ".py",
   "mimetype": "text/x-python",
   "name": "python",
   "nbconvert_exporter": "python",
   "pygments_lexer": "ipython3",
   "version": "3.10.12"
  },
  "orig_nbformat": 4
 },
 "nbformat": 4,
 "nbformat_minor": 2
}
