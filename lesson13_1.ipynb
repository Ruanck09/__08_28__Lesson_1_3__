{
 "cells": [
  {
   "cell_type": "code",
   "execution_count": 5,
   "metadata": {},
   "outputs": [
    {
     "name": "stdout",
     "output_type": "stream",
     "text": [
      "請輸入手機號碼(xxxx-xxx-xxx):\n",
      "輸入格式錯誤!!\n"
     ]
    }
   ],
   "source": [
    "# 檢查台灣手機號碼輸入格式(xxxx-xxx-xxx)\n",
    "\n",
    "import pyinputplus as pyip\n",
    "\n",
    "def isphonenum(phone:str) -> bool:\n",
    "    if len(phone) != 12:\n",
    "        return False\n",
    "    elif not phone[0:4].isdigit():\n",
    "        return False\n",
    "    elif phone[4] != \"-\":\n",
    "        return False\n",
    "    elif not phone[5:8].isdigit():\n",
    "        return False\n",
    "    elif phone[8] != \"-\":\n",
    "        return False\n",
    "    elif not phone[9:12].isdigit():\n",
    "        return False\n",
    "    else:\n",
    "        return True\n",
    "\n",
    "phone_str = pyip.inputStr(\"請輸入手機號碼(xxxx-xxx-xxx):\\n\")\n",
    "\n",
    "if isphonenum(phone_str):\n",
    "    print(f\"您的手機號碼是:{phone_str}\")\n",
    "else:\n",
    "    print(\"輸入格式錯誤!!\")"
   ]
  },
  {
   "cell_type": "code",
   "execution_count": 11,
   "metadata": {},
   "outputs": [
    {
     "name": "stdout",
     "output_type": "stream",
     "text": [
      "請輸入手機號碼(xxxx-xxx-xxx):\n",
      "您的手機號碼是:0932-456-789\n"
     ]
    }
   ],
   "source": [
    "# 檢查台灣手機號碼輸入格式(xxxx-xxx-xxx)\n",
    "\n",
    "import pyinputplus as pyip\n",
    "import re\n",
    "\n",
    "def isphonenum(phone:str) -> bool:\n",
    "    phonenumregex = re.compile(r'\\d\\d\\d\\d-\\d\\d\\d-\\d\\d\\d')\n",
    "    match = re.match(phonenumregex,phone)\n",
    "    if len(phone) != 12:\n",
    "        return False\n",
    "    elif phone[0] != \"0\":\n",
    "        return False\n",
    "    elif phone[1] != \"9\":\n",
    "        return False\n",
    "    elif match is None:\n",
    "        return False\n",
    "    else:\n",
    "        return True\n",
    "\n",
    "phone_str = pyip.inputStr(\"請輸入手機號碼(xxxx-xxx-xxx):\\n\")\n",
    "\n",
    "if isphonenum(phone_str):\n",
    "    print(f\"您的手機號碼是:{phone_str}\")\n",
    "else:\n",
    "    print(\"輸入格式錯誤!!\")"
   ]
  }
 ],
 "metadata": {
  "kernelspec": {
   "display_name": "Python 3",
   "language": "python",
   "name": "python3"
  },
  "language_info": {
   "codemirror_mode": {
    "name": "ipython",
    "version": 3
   },
   "file_extension": ".py",
   "mimetype": "text/x-python",
   "name": "python",
   "nbconvert_exporter": "python",
   "pygments_lexer": "ipython3",
   "version": "3.10.12"
  },
  "orig_nbformat": 4
 },
 "nbformat": 4,
 "nbformat_minor": 2
}
