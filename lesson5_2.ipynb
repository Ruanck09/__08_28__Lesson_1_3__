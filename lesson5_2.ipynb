{
 "cells": [
  {
   "cell_type": "code",
   "execution_count": 1,
   "metadata": {},
   "outputs": [
    {
     "name": "stdout",
     "output_type": "stream",
     "text": [
      "1\n",
      "2\n",
      "3\n",
      "4\n",
      "5\n",
      "while結束\n"
     ]
    }
   ],
   "source": [
    "# 使用while做明確次數的迴圈\n",
    "count = 1\n",
    "while count < 6:\n",
    "    print(count)\n",
    "    count += 1\n",
    "print(\"while結束\")"
   ]
  },
  {
   "cell_type": "code",
   "execution_count": 2,
   "metadata": {},
   "outputs": [
    {
     "name": "stdout",
     "output_type": "stream",
     "text": [
      "恭喜!已經存夠了，存了6個月，共計存款為:32970元\n"
     ]
    }
   ],
   "source": [
    "# 小明存錢買輛機車,每輛30000元,將每月存款輸入後,當存款足夠時,顯示告知。\n",
    "deposit = 0\n",
    "month = 0\n",
    "while deposit < 30000:\n",
    "    month += 1\n",
    "    money = int(input(f\"請輸入第{month}個月的存款:\"))\n",
    "    deposit += money\n",
    "\n",
    "print(f\"恭喜!已經存夠了，存了{month}個月，共計存款為:{deposit}元\")"
   ]
  },
  {
   "cell_type": "code",
   "execution_count": 4,
   "metadata": {},
   "outputs": [
    {
     "name": "stdout",
     "output_type": "stream",
     "text": [
      "1的平方為:1\n",
      "你輸入的數為:2\n",
      "3的平方為:9\n",
      "你輸入的數為:4\n",
      "5的平方為:25\n",
      "你輸入的數為:6\n",
      "7的平方為:49\n",
      "你輸入的數為:8\n",
      "9的平方為:81\n",
      "你輸入的數為:10\n",
      "程式結束\n"
     ]
    }
   ],
   "source": [
    "# 要求使用者輸入值\n",
    "# 奇數時,輸出平方\n",
    "# 偶數時,輸出原數\n",
    "# 'q'離開\n",
    "\n",
    "while True:\n",
    "    value = input(\"請輸入整數,輸入[q]離開:\")\n",
    "    if value == 'q':\n",
    "        break\n",
    "    num = int(value)\n",
    "    if num % 2 == 1:\n",
    "        print(f\"{num}的平方為:{num**2}\")\n",
    "    else:\n",
    "        print(f\"你輸入的數為:{num}\")\n",
    "print(\"程式結束\")"
   ]
  },
  {
   "cell_type": "code",
   "execution_count": 7,
   "metadata": {},
   "outputs": [
    {
     "name": "stdout",
     "output_type": "stream",
     "text": [
      "你輸入的所有正偶數總和為:30\n"
     ]
    }
   ],
   "source": [
    "# 請設計一個程式,讓使用者輸入數值,只加正偶數,不加正奇數,輸入負數則結束。\n",
    "\n",
    "num = 0\n",
    "sum = 0\n",
    "\n",
    "while True:\n",
    "    num += 1\n",
    "    value = int(input(f\"請輸入第{num}個數值:\"))\n",
    "    if value < 0:\n",
    "        break\n",
    "    elif value % 2 == 1:\n",
    "        continue\n",
    "    else:\n",
    "        sum += value\n",
    "\n",
    "print(f\"你輸入的所有正偶數總和為:{sum}\")"
   ]
  }
 ],
 "metadata": {
  "kernelspec": {
   "display_name": "Python 3",
   "language": "python",
   "name": "python3"
  },
  "language_info": {
   "codemirror_mode": {
    "name": "ipython",
    "version": 3
   },
   "file_extension": ".py",
   "mimetype": "text/x-python",
   "name": "python",
   "nbconvert_exporter": "python",
   "pygments_lexer": "ipython3",
   "version": "3.10.12"
  },
  "orig_nbformat": 4
 },
 "nbformat": 4,
 "nbformat_minor": 2
}
