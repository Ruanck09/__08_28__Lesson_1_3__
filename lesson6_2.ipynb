{
 "cells": [
  {
   "cell_type": "code",
   "execution_count": 7,
   "metadata": {},
   "outputs": [
    {
     "name": "stdout",
     "output_type": "stream",
     "text": [
      "==========終極密碼==========\n",
      "\n",
      "非常可惜!要再小一點!!\n",
      "您已經猜了1次\n",
      "非常可惜!要再小一點!!\n",
      "您已經猜了2次\n",
      "非常可惜!要再大一點!!\n",
      "您已經猜了3次\n",
      "輸入錯誤,不在範圍內!\n",
      "您已經猜了4次\n",
      "非常可惜!要再小一點!!\n",
      "您已經猜了5次\n",
      "非常可惜!要再小一點!!\n",
      "您已經猜了6次\n",
      "非常可惜!要再小一點!!\n",
      "您已經猜了7次\n",
      "恭喜您!猜對了,答案是: 8\n",
      "您總共猜了8次\n",
      "遊戲結束。\n"
     ]
    }
   ],
   "source": [
    "import random\n",
    "\n",
    "min = 1\n",
    "max = 100\n",
    "count = 0\n",
    "target = random.randint(min,max)\n",
    "print(\"==========終極密碼==========\\n\")\n",
    "\n",
    "while True:\n",
    "    try:\n",
    "        keyin = int(input(f\"猜數字範圍:{min}~{max},請輸入您的答案:\"))\n",
    "    except:\n",
    "        print(\"輸入格式錯誤\")\n",
    "        count += 1\n",
    "        print(f\"您已經猜了{count}次\")\n",
    "    else:\n",
    "        count += 1\n",
    "        if keyin >= min and keyin <= max:\n",
    "            if keyin == target:\n",
    "                print(f\"恭喜您!猜對了,答案是:\",target)\n",
    "                print(f\"您總共猜了{count}次\")\n",
    "                break\n",
    "            elif keyin > target:\n",
    "                print(\"非常可惜!要再小一點!!\")\n",
    "                max = keyin - 1\n",
    "            elif keyin < target:\n",
    "                print(\"非常可惜!要再大一點!!\")\n",
    "                min = keyin + 1\n",
    "            print(f\"您已經猜了{count}次\")\n",
    "        else:\n",
    "            print(\"輸入錯誤,不在範圍內!\")\n",
    "            print(f\"您已經猜了{count}次\")\n",
    "\n",
    "print(\"遊戲結束。\")"
   ]
  }
 ],
 "metadata": {
  "kernelspec": {
   "display_name": "Python 3",
   "language": "python",
   "name": "python3"
  },
  "language_info": {
   "codemirror_mode": {
    "name": "ipython",
    "version": 3
   },
   "file_extension": ".py",
   "mimetype": "text/x-python",
   "name": "python",
   "nbconvert_exporter": "python",
   "pygments_lexer": "ipython3",
   "version": "3.10.12"
  },
  "orig_nbformat": 4
 },
 "nbformat": 4,
 "nbformat_minor": 2
}
